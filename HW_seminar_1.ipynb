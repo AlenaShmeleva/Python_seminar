{
  "cells": [
    {
      "cell_type": "markdown",
      "source": [
        "#Домашняя работа. Урок 1."
      ],
      "metadata": {
        "id": "HonlIOjnf0Yo"
      }
    },
    {
      "cell_type": "markdown",
      "source": [
        "##Задание 1\n",
        "На складе лежат разные фрукты в разном количестве.\n",
        "Нужно написать функцию, которая на вход принимает любое количество названий фруктов и их количество, а возвращает общее количество фруктов на складе"
      ],
      "metadata": {
        "id": "yNYUCpawf9ld"
      }
    },
    {
      "cell_type": "code",
      "source": [
        "def all_fruits(**kwargs):\n",
        "    return f'Общее количество фрутов на складе = {sum(kwargs.values())}'"
      ],
      "metadata": {
        "id": "Nw4jS9w-gIy4"
      },
      "execution_count": 8,
      "outputs": []
    },
    {
      "cell_type": "code",
      "source": [
        "fruits = {\n",
        "    'яблоки': 105,\n",
        "    'бананы': 125,\n",
        "    'манго': 27,\n",
        "    'ананасы': 11,\n",
        "}"
      ],
      "metadata": {
        "id": "7nAjF83lhsFP"
      },
      "execution_count": 9,
      "outputs": []
    },
    {
      "cell_type": "code",
      "source": [
        "all_fruits(**fruits)"
      ],
      "metadata": {
        "id": "onJYJqoSisW4",
        "outputId": "c7dd6188-0d49-41c1-db7e-554181b47624",
        "colab": {
          "base_uri": "https://localhost:8080/",
          "height": 35
        }
      },
      "execution_count": 10,
      "outputs": [
        {
          "output_type": "execute_result",
          "data": {
            "text/plain": [
              "'Общее количество фрутов на складе = 268'"
            ],
            "application/vnd.google.colaboratory.intrinsic+json": {
              "type": "string"
            }
          },
          "metadata": {},
          "execution_count": 10
        }
      ]
    },
    {
      "cell_type": "markdown",
      "source": [
        "##Задание 2\n",
        "Дан список с затратами на рекламу. Но в данных есть ошибки, некоторые затраты имеют отрицательную величину. Удалите такие значения из списка и посчитайте суммарные затраты\n",
        "[100, 125, -90, 345, 655, -1, 0, 200]\n",
        "Используйте list comprehensions"
      ],
      "metadata": {
        "id": "RzDfmPU1jPEc"
      }
    },
    {
      "cell_type": "code",
      "source": [
        "spending = [100, 125, -90, 345, 655, -1, 0, 200]\n",
        "true_spending = [i for i in spending if i > 0]\n",
        "print(true_spending)\n",
        "f'Суммарные затраты = {sum(true_spending)}'"
      ],
      "metadata": {
        "id": "WO3jhqYgjh0n",
        "outputId": "b73b5a99-f230-4d82-fc97-a70916d7e287",
        "colab": {
          "base_uri": "https://localhost:8080/",
          "height": 53
        }
      },
      "execution_count": 12,
      "outputs": [
        {
          "output_type": "stream",
          "name": "stdout",
          "text": [
            "[100, 125, 345, 655, 200]\n"
          ]
        },
        {
          "output_type": "execute_result",
          "data": {
            "text/plain": [
              "'Суммарные затраты = 1425'"
            ],
            "application/vnd.google.colaboratory.intrinsic+json": {
              "type": "string"
            }
          },
          "metadata": {},
          "execution_count": 12
        }
      ]
    },
    {
      "cell_type": "markdown",
      "source": [
        "##Задание 3\n",
        "###Пункт 1\n",
        "Даны два списка.\n",
        "\n",
        "Дата покупки\n",
        "['2021-09-14', '2021-12-15', '2021-09-08', '2021-12-05', '2021-10-09', '2021-09-30', '2021-12-22', '2021-11-29', '2021-12-24', '2021-11-26', '2021-10-27', '2021-12-18', '2021-11-09', '2021-11-23', '2021-09-27', '2021-10-02', '2021-12-27', '2021-09-20', '2021-12-13', '2021-11-01', '2021-11-09', '2021-12-06', '2021-12-08', '2021-10-09', '2021-10-31', '2021-09-30', '2021-11-09', '2021-12-13', '2021-10-26', '2021-12-09']\n",
        "\n",
        "Суммы покупок по датам\n",
        "[1270, 8413, 9028, 3703, 5739, 4095, 295, 4944, 5723, 3701, 4471, 651, 7037, 4274, 6275, 4988, 6930, 2971, 6592, 2004, 2822, 519, 3406, 2732, 5015, 2008, 316, 6333, 5700, 2887]\n",
        "\n",
        "Найдите, какая выручка у компании в ноябре\n",
        "Используйте list comprehensions"
      ],
      "metadata": {
        "id": "YZpsZ7ZGlWrV"
      }
    },
    {
      "cell_type": "code",
      "source": [
        "data = ['2021-09-14', '2021-12-15', '2021-09-08', '2021-12-05', '2021-10-09', '2021-09-30', '2021-12-22', \n",
        "        '2021-11-29', '2021-12-24', '2021-11-26', '2021-10-27', '2021-12-18', '2021-11-09', '2021-11-23', \n",
        "        '2021-09-27', '2021-10-02', '2021-12-27', '2021-09-20', '2021-12-13', '2021-11-01', '2021-11-09', \n",
        "        '2021-12-06', '2021-12-08', '2021-10-09', '2021-10-31', '2021-09-30', '2021-11-09', '2021-12-13', \n",
        "        '2021-10-26', '2021-12-09']\n",
        "summa = [1270, 8413, 9028, 3703, 5739, 4095, 295, 4944, 5723, 3701, 4471, 651, 7037, 4274, 6275, 4988, 6930, \n",
        "       2971, 6592, 2004, 2822, 519, 3406, 2732, 5015, 2008, 316, 6333, 5700, 2887]\n",
        "f'Выручка у компании в ноябре = {sum([j for i, j in zip(data, summa) if i[5:7] == \"11\"])}'\n"
      ],
      "metadata": {
        "id": "caVoRLFjlmQi",
        "outputId": "45700c5b-1a2a-404f-acc0-21d120fbb407",
        "colab": {
          "base_uri": "https://localhost:8080/",
          "height": 35
        }
      },
      "execution_count": 27,
      "outputs": [
        {
          "output_type": "execute_result",
          "data": {
            "text/plain": [
              "'Выручка у компании в ноябре = 25098'"
            ],
            "application/vnd.google.colaboratory.intrinsic+json": {
              "type": "string"
            }
          },
          "metadata": {},
          "execution_count": 27
        }
      ]
    },
    {
      "cell_type": "markdown",
      "source": [
        "##Задание 3\n",
        "###Пункт 2\n",
        "Найдите выручку компании в зависимости от месяца.\n",
        "Для этого напишите функцию, которая на вход принимает список с датами и список с выручкой, а на выходе словарь, где ключи - это месяцы, а значения - это выручка.\n",
        "Используйте аннотирование типов."
      ],
      "metadata": {
        "id": "zVaMuy7_w0--"
      }
    },
    {
      "cell_type": "code",
      "source": [
        "def new_dict(keys: list, values: list) -> dict:\n",
        "  result = {}\n",
        "  for i, j in zip(data, summa):\n",
        "        if i[5:7] in result.keys():\n",
        "            result[i[5:7]] = result[i[5:7]] + j\n",
        "        else:\n",
        "            result[i[5:7]] = j\n",
        "  return result"
      ],
      "metadata": {
        "id": "xCkvtpGyxA_9"
      },
      "execution_count": 57,
      "outputs": []
    },
    {
      "cell_type": "code",
      "source": [
        "new_dict(data, summa)"
      ],
      "metadata": {
        "id": "M9tZ7y1jx_R_",
        "outputId": "be7b662d-5fa9-457d-f758-3be18f42a376",
        "colab": {
          "base_uri": "https://localhost:8080/"
        }
      },
      "execution_count": 58,
      "outputs": [
        {
          "output_type": "execute_result",
          "data": {
            "text/plain": [
              "{'09': 25647, '12': 45452, '10': 28645, '11': 25098}"
            ]
          },
          "metadata": {},
          "execution_count": 58
        }
      ]
    }
  ],
  "metadata": {
    "colab": {
      "name": "Добро пожаловать в Colaboratory!",
      "toc_visible": true,
      "provenance": []
    },
    "kernelspec": {
      "display_name": "Python 3",
      "name": "python3"
    }
  },
  "nbformat": 4,
  "nbformat_minor": 0
}
